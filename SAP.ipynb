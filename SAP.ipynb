{
 "cells": [
  {
   "cell_type": "code",
   "execution_count": null,
   "id": "5d436af1",
   "metadata": {},
   "outputs": [],
   "source": []
  },
  {
   "cell_type": "code",
   "execution_count": 1,
   "id": "d7b6dc37",
   "metadata": {},
   "outputs": [
    {
     "name": "stderr",
     "output_type": "stream",
     "text": [
      "C:\\Users\\dnyan\\anaconda3\\Lib\\site-packages\\pandas\\core\\arrays\\masked.py:60: UserWarning: Pandas requires version '1.3.6' or newer of 'bottleneck' (version '1.3.5' currently installed).\n",
      "  from pandas.core import (\n"
     ]
    }
   ],
   "source": [
    "import os\n",
    "import math\n",
    "import time\n",
    "import numpy as np\n",
    "import pandas as pd\n",
    "import phe.encoding\n",
    "from phe import paillier\n",
    "from sklearn.svm import SVC\n",
    "from sklearn.metrics import accuracy_score"
   ]
  },
  {
   "cell_type": "code",
   "execution_count": 2,
   "id": "29ed6fa2",
   "metadata": {},
   "outputs": [],
   "source": [
    "class ExampleEncodedNumber(phe.encoding.EncodedNumber):\n",
    "    BASE = 64\n",
    "    LOG2_BASE = math.log(BASE, 2)"
   ]
  },
  {
   "cell_type": "code",
   "execution_count": 3,
   "id": "4f25248d",
   "metadata": {},
   "outputs": [],
   "source": [
    "def encrypt_vector(vec, public_key):\n",
    "    \n",
    "    try:\n",
    "      \n",
    "        encoded_vector = [public_key.encode(v) for v in vec]\n",
    "        \n",
    "        # Encryption step\n",
    "        encrypted_vector = [public_key.encrypt(ev) for ev in encoded_vector]\n",
    "    except AttributeError:\n",
    "        # If encoding is not required, proceed directly to encryption\n",
    "        encrypted_vector = [public_key.encrypt(v) for v in vec]\n",
    "    \n",
    "    return encrypted_vector"
   ]
  },
  {
   "cell_type": "code",
   "execution_count": 4,
   "id": "debb6a53",
   "metadata": {},
   "outputs": [],
   "source": [
    "def decrypt_vector(vec, private_key):\n",
    "  # decoded_vector = [private_key.decrypt_encoded(x, ExampleEncodedNumber) for x in vec]\n",
    "  # decrypted_vector = [d.decode() for d in decoded_vector]\n",
    "    decrypted_vector = [private_key.decrypt(x) for x in vec]\n",
    "    return decrypted_vector\n",
    "\n",
    "\n"
   ]
  },
  {
   "cell_type": "code",
   "execution_count": 5,
   "id": "84b895e3",
   "metadata": {},
   "outputs": [],
   "source": [
    "def load_data(input_file, target_feature):\n",
    "  # Load data and separate the features and labelsz\n",
    "  data = pd.read_csv(input_file).dropna()\n",
    "  X = data.drop(target_feature, axis=1).values.tolist()\n",
    "  y = data[target_feature].values.tolist()\n",
    "  return X, y"
   ]
  },
  {
   "cell_type": "code",
   "execution_count": 6,
   "id": "a7bfeaae",
   "metadata": {},
   "outputs": [],
   "source": [
    "class Client:\n",
    "\n",
    "    def __init__(self, key_length):\n",
    "        # Generate the public and private keys for Paillier encryption\n",
    "        public_key, private_key = paillier.generate_paillier_keypair(n_length=key_length)\n",
    "        self.public_key, self.private_key = public_key, private_key\n",
    "\n",
    "    def encrypt_data(self, input_file, target_feature):        \n",
    "        # Encrypt the testing data and labels\n",
    "        self.X_test, self.y_test = load_data(input_file, target_feature)\n",
    "        self.X_test_encrypted = [encrypt_vector(x, self.public_key) for x in self.X_test]\n",
    "        self.y_test_encrypted = encrypt_vector(self.y_test, self.public_key)\n",
    "        return self.X_test_encrypted, self.y_test_encrypted\n",
    "    \n",
    "    def eval(self, encrypted_predictions):\n",
    "        logits = decrypt_vector(encrypted_predictions, self.private_key)\n",
    "        y_pred = [1 if l>0 else 0 for l in logits]\n",
    "        test_accuracy = accuracy_score(self.y_test, y_pred)\n",
    "        return test_accuracy"
   ]
  },
  {
   "cell_type": "code",
   "execution_count": 7,
   "id": "79a8e7b3",
   "metadata": {},
   "outputs": [],
   "source": [
    "class Server:\n",
    "\n",
    "    def __init__(self, input_file, target_feature):\n",
    "        self.model = None\n",
    "        self.X_train, self.y_train = load_data(input_file, target_feature)\n",
    "        \n",
    "    def train_model(self,hyperparams):\n",
    "        # Train the SVM model\n",
    "        svm_model = SVC(kernel=hyperparams['kernel'], C=hyperparams['C'], gamma=hyperparams['gamma'])\n",
    "        svm_model.fit(self.X_train, self.y_train)\n",
    "        self.model = svm_model\n",
    "\n",
    "    def predict(self, X_test_encrypted):\n",
    "        # Make predictions on the encrypted test data using the trained model\n",
    "        encrypted_logits = list()\n",
    "        w = self.model.coef_[0]\n",
    "        b = self.model.intercept_[0]\n",
    "        for x in X_test_encrypted:\n",
    "          score = b\n",
    "          for i in range(len(x)):\n",
    "            score += x[i]*w[i]\n",
    "          encrypted_logits.append(score)\n",
    "        return encrypted_logits"
   ]
  },
  {
   "cell_type": "code",
   "execution_count": 8,
   "id": "e61ba069",
   "metadata": {},
   "outputs": [
    {
     "name": "stdout",
     "output_type": "stream",
     "text": [
      "\n",
      "\n",
      "Test accuracy for Privacy-preserving SVM Model is 0.82\n",
      "\n",
      "\n",
      "Total Time Taken: = 0.0 mins 33.36 secs\n"
     ]
    }
   ],
   "source": [
    "start_time = time.time()\n",
    "\n",
    "# Parameters\n",
    "key_length = 1024\n",
    "target_feature = \"Outcome\"\n",
    "hyperparameters = {'kernel':'linear', 'C':1, 'gamma':'auto'}\n",
    "\n",
    "# Instantiate Server\n",
    "server = Server(r\"https://api.csvgetter.com/vS230MWnrcErZ0148aNZ\", target_feature)\n",
    "# Train SVM Classifier\n",
    "svm_model = server.train_model(hyperparameters)\n",
    "\n",
    "# Instantiate Client\n",
    "client = Client(key_length)\n",
    "# Encrypt data on client machine\n",
    "X_test_encrypted, y_test_encrypted = client.encrypt_data(r\"https://api.csvgetter.com/vS230MWnrcErZ0148aNZ\", target_feature)\n",
    "\n",
    "# Send encrypted data to server for inference\n",
    "encrypted_preds = server.predict(X_test_encrypted)\n",
    "\n",
    "# Send encrypted predictions back to client and evaluate accuracy\n",
    "test_accuracy = client.eval(encrypted_preds)\n",
    "print(f'\\n\\nTest accuracy for Privacy-preserving SVM Model is {round(test_accuracy, 2)}')\n",
    "\n",
    "end_time = time.time()\n",
    "time_taken = (end_time - start_time)\n",
    "print(f'\\n\\nTotal Time Taken: = {time_taken//60} mins {round(time_taken%60,2)} secs')"
   ]
  },
  {
   "cell_type": "markdown",
   "id": "36c800be",
   "metadata": {},
   "source": [
    " SVM CLASSIFIER WITH UNENCRYPTED DATA AND UNENCRYPTED MODEL"
   ]
  },
  {
   "cell_type": "code",
   "execution_count": null,
   "id": "0e80b8c0",
   "metadata": {},
   "outputs": [],
   "source": []
  },
  {
   "cell_type": "code",
   "execution_count": null,
   "id": "ce5d27f8",
   "metadata": {},
   "outputs": [],
   "source": []
  },
  {
   "cell_type": "code",
   "execution_count": null,
   "id": "84d01a35",
   "metadata": {},
   "outputs": [],
   "source": []
  },
  {
   "cell_type": "code",
   "execution_count": null,
   "id": "2dd1986d",
   "metadata": {},
   "outputs": [],
   "source": []
  }
 ],
 "metadata": {
  "kernelspec": {
   "display_name": "Python 3 (ipykernel)",
   "language": "python",
   "name": "python3"
  },
  "language_info": {
   "codemirror_mode": {
    "name": "ipython",
    "version": 3
   },
   "file_extension": ".py",
   "mimetype": "text/x-python",
   "name": "python",
   "nbconvert_exporter": "python",
   "pygments_lexer": "ipython3",
   "version": "3.11.5"
  }
 },
 "nbformat": 4,
 "nbformat_minor": 5
}
